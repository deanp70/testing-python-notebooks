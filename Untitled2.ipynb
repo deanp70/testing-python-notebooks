{
  "nbformat": 4,
  "nbformat_minor": 0,
  "metadata": {
    "colab": {
      "name": "Untitled2.ipynb",
      "version": "0.3.2",
      "provenance": []
    },
    "kernelspec": {
      "name": "python3",
      "display_name": "Python 3"
    }
  },
  "cells": [
    {
      "metadata": {
        "id": "KhlfN3eSN962",
        "colab_type": "text"
      },
      "cell_type": "markdown",
      "source": [
        "# This is awesome\n",
        "This is also cool"
      ]
    },
    {
      "metadata": {
        "id": "oC0wzrd8f-tn",
        "colab_type": "code",
        "outputId": "88998228-d63c-456b-ce51-ae57d2617e94",
        "colab": {
          "base_uri": "https://localhost:8080/",
          "height": 34
        }
      },
      "cell_type": "code",
      "source": [
        "print(\"hello world 2\")"
      ],
      "execution_count": 0,
      "outputs": [
        {
          "output_type": "stream",
          "text": [
            "hello world 2\n"
          ],
          "name": "stdout"
        }
      ]
    },
    {
      "metadata": {
        "id": "CRuE5H1PgCFq",
        "colab_type": "code",
        "colab": {}
      },
      "cell_type": "code",
      "source": [
        ""
      ],
      "execution_count": 0,
      "outputs": []
    }
  ]
}
